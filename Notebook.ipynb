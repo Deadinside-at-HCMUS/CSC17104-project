{
 "cells": [
  {
   "cell_type": "markdown",
   "metadata": {
    "id": "ClpeVNuMhpeD"
   },
   "source": [
    "# **Programming for Data Science Final Project**\n",
    "\n",
    "**Student Information:**\n",
    "\n",
    "StudentID|Full Name\n",
    "-|-\n",
    "21127175|Le Anh Thu\n",
    "21127693|Huynh Duc Thien\n"
   ]
  },
  {
   "cell_type": "markdown",
   "metadata": {},
   "source": [
    "## **Table of contents**\n",
    "\n",
    "1. [Collecting Data](#collect)\n",
    "   \n",
    "    a. [About Dataset](#dataset)\n",
    "   \n",
    "    b. [License and Copyright](#license)\n",
    "   \n",
    "    c. [How to collect those data?](#howtocollect)\n",
    "\n",
    "2. [Exploring Data Analysis (EDA)](#eda)\n",
    "\n",
    "3. [Asking Meaning Questions](#ask)\n",
    "\n",
    "4. [Pre-processing & Analyzing Data to Answer each Questions](#pre&anal)\n",
    "\n",
    "5. [Reflection](#reflection)\n",
    "   \n",
    "[References](#references)"
   ]
  },
  {
   "cell_type": "markdown",
   "metadata": {},
   "source": [
    "## **1. Collecting Data** <a name=\"collect\"></a>"
   ]
  },
  {
   "cell_type": "markdown",
   "metadata": {},
   "source": [
    "## **2. Exploring Data Analysis (EDA)** <a name=\"eda\"></a>"
   ]
  },
  {
   "cell_type": "markdown",
   "metadata": {},
   "source": [
    "## **3. Asking Meaning Questions** <a name=\"ask\"></a>"
   ]
  },
  {
   "cell_type": "markdown",
   "metadata": {},
   "source": [
    "## **4. Pre-processing & Analyzing Data to Answer each Questions** <a name=\"pre&anal\"></a>"
   ]
  },
  {
   "cell_type": "markdown",
   "metadata": {},
   "source": [
    "## **5. Reflection** <a name=\"reflection\"></a>"
   ]
  },
  {
   "cell_type": "markdown",
   "metadata": {},
   "source": [
    "## **References** <a name=\"references\"></a>"
   ]
  },
  {
   "cell_type": "code",
   "execution_count": null,
   "metadata": {},
   "outputs": [],
   "source": []
  }
 ],
 "metadata": {
  "colab": {
   "provenance": []
  },
  "kernelspec": {
   "display_name": "Python 3 (ipykernel)",
   "language": "python",
   "name": "python3"
  },
  "language_info": {
   "codemirror_mode": {
    "name": "ipython",
    "version": 3
   },
   "file_extension": ".py",
   "mimetype": "text/x-python",
   "name": "python",
   "nbconvert_exporter": "python",
   "pygments_lexer": "ipython3",
   "version": "3.10.8"
  }
 },
 "nbformat": 4,
 "nbformat_minor": 4
}
